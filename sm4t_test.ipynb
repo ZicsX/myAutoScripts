{
  "nbformat": 4,
  "nbformat_minor": 0,
  "metadata": {
    "colab": {
      "provenance": [],
      "gpuType": "T4",
      "include_colab_link": true
    },
    "kernelspec": {
      "name": "python3",
      "display_name": "Python 3"
    },
    "language_info": {
      "name": "python"
    },
    "accelerator": "GPU"
  },
  "cells": [
    {
      "cell_type": "markdown",
      "metadata": {
        "id": "view-in-github",
        "colab_type": "text"
      },
      "source": [
        "<a href=\"https://colab.research.google.com/github/ZicsX/myAutoScripts/blob/main/sm4t_test.ipynb\" target=\"_parent\"><img src=\"https://colab.research.google.com/assets/colab-badge.svg\" alt=\"Open In Colab\"/></a>"
      ]
    },
    {
      "cell_type": "code",
      "source": [
        "!sudo apt install autoconf autogen automake build-essential libasound2-dev \\\n",
        "  libflac-dev libogg-dev libtool libvorbis-dev libopus-dev libmp3lame-dev \\\n",
        "  libmpg123-dev pkg-config"
      ],
      "metadata": {
        "id": "oFYlNyKJ0FRn"
      },
      "execution_count": null,
      "outputs": []
    },
    {
      "cell_type": "code",
      "source": [
        "!pip install git+https://github.com/facebookresearch/seamless_communication.git datasets"
      ],
      "metadata": {
        "id": "kKURVJC6n153"
      },
      "execution_count": null,
      "outputs": []
    },
    {
      "cell_type": "code",
      "execution_count": null,
      "metadata": {
        "id": "Nml1sVZR_BRv"
      },
      "outputs": [],
      "source": [
        "import argparse\n",
        "import logging\n",
        "import torch\n",
        "import torchaudio\n",
        "from seamless_communication.models.inference import Translator"
      ]
    },
    {
      "cell_type": "code",
      "source": [
        "import torch\n",
        "import torchaudio\n",
        "from seamless_communication.models.inference import Translator\n",
        "\n",
        "# Initialize a Translator object with a multitask model, vocoder on the GPU.\n",
        "translator = Translator(\"seamlessM4T_medium\", \"vocoder_36langs\", torch.device(\"cuda:0\"), torch.float16)\n"
      ],
      "metadata": {
        "id": "V5E4COiqo7Ho"
      },
      "execution_count": null,
      "outputs": []
    },
    {
      "cell_type": "code",
      "source": [
        "def translate(text):\n",
        "  translated_text, _, _ = translator.predict(text, \"t2tt\", 'hin', src_lang='eng')\n",
        "  return translated_text"
      ],
      "metadata": {
        "id": "Zp_gqnCjpSWq"
      },
      "execution_count": null,
      "outputs": []
    },
    {
      "cell_type": "code",
      "source": [
        "input_text = \"\"\"The development of AI, ML, and a chatbot-powered interactive robot mascot (Chacha Chaudhary), along with a digital avatar, aims to strengthen the river people's connection component of Namami Gange.\"\"\""
      ],
      "metadata": {
        "id": "RzPceFlowmFU"
      },
      "execution_count": null,
      "outputs": []
    },
    {
      "cell_type": "code",
      "source": [
        "# T2TT\n",
        "translated_text = translate(input_text)\n",
        "translated_text"
      ],
      "metadata": {
        "id": "42tMpc1yut-j",
        "colab": {
          "base_uri": "https://localhost:8080/"
        },
        "outputId": "50602483-f059-4ac4-d797-0269827dffd1"
      },
      "execution_count": null,
      "outputs": [
        {
          "output_type": "execute_result",
          "data": {
            "text/plain": [
              "CString('एआई, एमएल, और एक चैटबोट संचालित इंटरैक्टिव रोबोट शुभंकर (चाचा चौधरी) का विकास, एक डिजिटल अवतार के साथ, नाममी गंगे के नदी के लोगों के कनेक्शन घटक को मजबूत करने का उद्देश्य है।')"
            ]
          },
          "metadata": {},
          "execution_count": 11
        }
      ]
    },
    {
      "cell_type": "code",
      "source": [
        "from datasets import load_dataset\n",
        "\n",
        "# Load the dataset and use streaming\n",
        "dataset = load_dataset('stanford-crfm/DSIR-filtered-pile-50M', split='train', streaming=True)\n",
        "i = 0\n",
        "for datapoint in dataset:\n",
        "  if i>=5: break\n",
        "  i+=1\n",
        "  content = datapoint['contents']\n",
        "  try:\n",
        "    translated_text = translate(content)\n",
        "    print(\"Original text:\", content)\n",
        "    print(\"Translated text:\", translated_text)\n",
        "    print(\"-------------------------------------------------------\")\n",
        "  except Exception as e:\n",
        "    print(f\"An error occurred while translating: {e}\")"
      ],
      "metadata": {
        "id": "wodVTJKzpeCu"
      },
      "execution_count": null,
      "outputs": []
    },
    {
      "cell_type": "code",
      "source": [],
      "metadata": {
        "id": "EGni854RJkgZ"
      },
      "execution_count": null,
      "outputs": []
    }
  ]
}